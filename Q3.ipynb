{
  "nbformat": 4,
  "nbformat_minor": 0,
  "metadata": {
    "colab": {
      "provenance": []
    },
    "kernelspec": {
      "name": "python3",
      "display_name": "Python 3"
    },
    "language_info": {
      "name": "python"
    },
    "accelerator": "GPU",
    "gpuClass": "standard"
  },
  "cells": [
    {
      "cell_type": "code",
      "source": [
        "import xml.etree.ElementTree as ET\n",
        "import os\n",
        "from pathlib import Path\n",
        "import pandas as pd\n",
        "import numpy as np\n",
        "import matplotlib.pyplot as plt\n",
        "import cv2\n",
        "import random\n",
        "from sklearn.model_selection import train_test_split "
      ],
      "metadata": {
        "id": "4lDnROrt4YcH"
      },
      "execution_count": 85,
      "outputs": []
    },
    {
      "cell_type": "code",
      "source": [
        "def filelist(root, file_type):\n",
        "    \"\"\"Returns a fully-qualified list of filenames under root directory\"\"\"\n",
        "    return [os.path.join(directory_path, f) for directory_path, directory_name, \n",
        "            files in os.walk(root) for f in files if f.endswith(file_type)]\n",
        "\n",
        "def generate_train_df (annotation_path):\n",
        "    annotations = filelist(annotation_path, '.xml')\n",
        "    anno_list = []\n",
        "    print(annotations)\n",
        "    for anno_path in annotations:\n",
        "        try: root = ET.parse(anno_path).getroot()\n",
        "        except: continue\n",
        "        #print(root)\n",
        "        anno = {}\n",
        "        try:\n",
        "            anno['filename'] = Path(anno_path[:-3]+'jpg')\n",
        "            anno['width'] = root.find(\"./size/width\").text\n",
        "            anno['height'] = root.find(\"./size/height\").text\n",
        "            anno['class'] = root.find(\"./object/name\").text\n",
        "            anno['xmin'] = int(root.find(\"./object/bndbox/xmin\").text)\n",
        "            anno['ymin'] = int(root.find(\"./object/bndbox/ymin\").text)\n",
        "            anno['xmax'] = int(root.find(\"./object/bndbox/xmax\").text)\n",
        "            anno['ymax'] = int(root.find(\"./object/bndbox/ymax\").text)\n",
        "            anno_list.append(anno)\n",
        "        except: continue\n",
        "    return pd.DataFrame(anno_list)"
      ],
      "metadata": {
        "id": "C1sdidUZsTXr"
      },
      "execution_count": 2,
      "outputs": []
    },
    {
      "cell_type": "code",
      "source": [
        "df_train = generate_train_df('/content/drive/MyDrive/techai01/dhwani/data/Final Train Dataset')"
      ],
      "metadata": {
        "id": "ySF0kHr93S9F"
      },
      "execution_count": null,
      "outputs": []
    },
    {
      "cell_type": "code",
      "source": [
        "df_train.sample(20)"
      ],
      "metadata": {
        "id": "WHfp3CNW9Iiv"
      },
      "execution_count": null,
      "outputs": []
    },
    {
      "cell_type": "code",
      "source": [
        "df_train.to_csv('Data.csv')"
      ],
      "metadata": {
        "id": "Lfla6El_AO6G"
      },
      "execution_count": 5,
      "outputs": []
    },
    {
      "cell_type": "code",
      "source": [
        "cnt = df_train['class'].value_counts()\n",
        "class_dict = {}\n",
        "j=0\n",
        "for i in cnt.keys():\n",
        "    if i not in class_dict: \n",
        "        class_dict[i] = j\n",
        "        j+=1\n",
        "    else: continue "
      ],
      "metadata": {
        "id": "pL06zHjv9a9m"
      },
      "execution_count": 88,
      "outputs": []
    },
    {
      "cell_type": "code",
      "source": [
        "# we take only five labels: \n",
        "df_train['class'] = df_train['class'].apply(lambda x:  class_dict[x])"
      ],
      "metadata": {
        "id": "_yTwY5cGvzAY"
      },
      "execution_count": 89,
      "outputs": []
    },
    {
      "cell_type": "code",
      "source": [
        "print(df_train.shape)\n",
        "df_train.head()"
      ],
      "metadata": {
        "colab": {
          "base_uri": "https://localhost:8080/",
          "height": 223
        },
        "id": "P0bOUo1Wv1oH",
        "outputId": "11c2dc7a-56e3-4a12-d35e-796ba4691a99"
      },
      "execution_count": 90,
      "outputs": [
        {
          "output_type": "stream",
          "name": "stdout",
          "text": [
            "(1944, 8)\n"
          ]
        },
        {
          "output_type": "execute_result",
          "data": {
            "text/plain": [
              "                                            filename width height  class  \\\n",
              "0  /content/drive/MyDrive/techai01/dhwani/data/Fi...  1080   1920      2   \n",
              "1  /content/drive/MyDrive/techai01/dhwani/data/Fi...  1080   1920      3   \n",
              "2  /content/drive/MyDrive/techai01/dhwani/data/Fi...  1125    877      1   \n",
              "3  /content/drive/MyDrive/techai01/dhwani/data/Fi...  1125    991      3   \n",
              "4  /content/drive/MyDrive/techai01/dhwani/data/Fi...  1080   1920      1   \n",
              "\n",
              "   xmin  ymin  xmax  ymax  \n",
              "0   965   892  1048  1041  \n",
              "1   440   823   689  1103  \n",
              "2   477   297   520   330  \n",
              "3   948   317  1125   469  \n",
              "4   514   933  1079  1748  "
            ],
            "text/html": [
              "\n",
              "  <div id=\"df-d55f966f-d457-4c6e-8ec3-3a6240dbe61a\">\n",
              "    <div class=\"colab-df-container\">\n",
              "      <div>\n",
              "<style scoped>\n",
              "    .dataframe tbody tr th:only-of-type {\n",
              "        vertical-align: middle;\n",
              "    }\n",
              "\n",
              "    .dataframe tbody tr th {\n",
              "        vertical-align: top;\n",
              "    }\n",
              "\n",
              "    .dataframe thead th {\n",
              "        text-align: right;\n",
              "    }\n",
              "</style>\n",
              "<table border=\"1\" class=\"dataframe\">\n",
              "  <thead>\n",
              "    <tr style=\"text-align: right;\">\n",
              "      <th></th>\n",
              "      <th>filename</th>\n",
              "      <th>width</th>\n",
              "      <th>height</th>\n",
              "      <th>class</th>\n",
              "      <th>xmin</th>\n",
              "      <th>ymin</th>\n",
              "      <th>xmax</th>\n",
              "      <th>ymax</th>\n",
              "    </tr>\n",
              "  </thead>\n",
              "  <tbody>\n",
              "    <tr>\n",
              "      <th>0</th>\n",
              "      <td>/content/drive/MyDrive/techai01/dhwani/data/Fi...</td>\n",
              "      <td>1080</td>\n",
              "      <td>1920</td>\n",
              "      <td>2</td>\n",
              "      <td>965</td>\n",
              "      <td>892</td>\n",
              "      <td>1048</td>\n",
              "      <td>1041</td>\n",
              "    </tr>\n",
              "    <tr>\n",
              "      <th>1</th>\n",
              "      <td>/content/drive/MyDrive/techai01/dhwani/data/Fi...</td>\n",
              "      <td>1080</td>\n",
              "      <td>1920</td>\n",
              "      <td>3</td>\n",
              "      <td>440</td>\n",
              "      <td>823</td>\n",
              "      <td>689</td>\n",
              "      <td>1103</td>\n",
              "    </tr>\n",
              "    <tr>\n",
              "      <th>2</th>\n",
              "      <td>/content/drive/MyDrive/techai01/dhwani/data/Fi...</td>\n",
              "      <td>1125</td>\n",
              "      <td>877</td>\n",
              "      <td>1</td>\n",
              "      <td>477</td>\n",
              "      <td>297</td>\n",
              "      <td>520</td>\n",
              "      <td>330</td>\n",
              "    </tr>\n",
              "    <tr>\n",
              "      <th>3</th>\n",
              "      <td>/content/drive/MyDrive/techai01/dhwani/data/Fi...</td>\n",
              "      <td>1125</td>\n",
              "      <td>991</td>\n",
              "      <td>3</td>\n",
              "      <td>948</td>\n",
              "      <td>317</td>\n",
              "      <td>1125</td>\n",
              "      <td>469</td>\n",
              "    </tr>\n",
              "    <tr>\n",
              "      <th>4</th>\n",
              "      <td>/content/drive/MyDrive/techai01/dhwani/data/Fi...</td>\n",
              "      <td>1080</td>\n",
              "      <td>1920</td>\n",
              "      <td>1</td>\n",
              "      <td>514</td>\n",
              "      <td>933</td>\n",
              "      <td>1079</td>\n",
              "      <td>1748</td>\n",
              "    </tr>\n",
              "  </tbody>\n",
              "</table>\n",
              "</div>\n",
              "      <button class=\"colab-df-convert\" onclick=\"convertToInteractive('df-d55f966f-d457-4c6e-8ec3-3a6240dbe61a')\"\n",
              "              title=\"Convert this dataframe to an interactive table.\"\n",
              "              style=\"display:none;\">\n",
              "        \n",
              "  <svg xmlns=\"http://www.w3.org/2000/svg\" height=\"24px\"viewBox=\"0 0 24 24\"\n",
              "       width=\"24px\">\n",
              "    <path d=\"M0 0h24v24H0V0z\" fill=\"none\"/>\n",
              "    <path d=\"M18.56 5.44l.94 2.06.94-2.06 2.06-.94-2.06-.94-.94-2.06-.94 2.06-2.06.94zm-11 1L8.5 8.5l.94-2.06 2.06-.94-2.06-.94L8.5 2.5l-.94 2.06-2.06.94zm10 10l.94 2.06.94-2.06 2.06-.94-2.06-.94-.94-2.06-.94 2.06-2.06.94z\"/><path d=\"M17.41 7.96l-1.37-1.37c-.4-.4-.92-.59-1.43-.59-.52 0-1.04.2-1.43.59L10.3 9.45l-7.72 7.72c-.78.78-.78 2.05 0 2.83L4 21.41c.39.39.9.59 1.41.59.51 0 1.02-.2 1.41-.59l7.78-7.78 2.81-2.81c.8-.78.8-2.07 0-2.86zM5.41 20L4 18.59l7.72-7.72 1.47 1.35L5.41 20z\"/>\n",
              "  </svg>\n",
              "      </button>\n",
              "      \n",
              "  <style>\n",
              "    .colab-df-container {\n",
              "      display:flex;\n",
              "      flex-wrap:wrap;\n",
              "      gap: 12px;\n",
              "    }\n",
              "\n",
              "    .colab-df-convert {\n",
              "      background-color: #E8F0FE;\n",
              "      border: none;\n",
              "      border-radius: 50%;\n",
              "      cursor: pointer;\n",
              "      display: none;\n",
              "      fill: #1967D2;\n",
              "      height: 32px;\n",
              "      padding: 0 0 0 0;\n",
              "      width: 32px;\n",
              "    }\n",
              "\n",
              "    .colab-df-convert:hover {\n",
              "      background-color: #E2EBFA;\n",
              "      box-shadow: 0px 1px 2px rgba(60, 64, 67, 0.3), 0px 1px 3px 1px rgba(60, 64, 67, 0.15);\n",
              "      fill: #174EA6;\n",
              "    }\n",
              "\n",
              "    [theme=dark] .colab-df-convert {\n",
              "      background-color: #3B4455;\n",
              "      fill: #D2E3FC;\n",
              "    }\n",
              "\n",
              "    [theme=dark] .colab-df-convert:hover {\n",
              "      background-color: #434B5C;\n",
              "      box-shadow: 0px 1px 3px 1px rgba(0, 0, 0, 0.15);\n",
              "      filter: drop-shadow(0px 1px 2px rgba(0, 0, 0, 0.3));\n",
              "      fill: #FFFFFF;\n",
              "    }\n",
              "  </style>\n",
              "\n",
              "      <script>\n",
              "        const buttonEl =\n",
              "          document.querySelector('#df-d55f966f-d457-4c6e-8ec3-3a6240dbe61a button.colab-df-convert');\n",
              "        buttonEl.style.display =\n",
              "          google.colab.kernel.accessAllowed ? 'block' : 'none';\n",
              "\n",
              "        async function convertToInteractive(key) {\n",
              "          const element = document.querySelector('#df-d55f966f-d457-4c6e-8ec3-3a6240dbe61a');\n",
              "          const dataTable =\n",
              "            await google.colab.kernel.invokeFunction('convertToInteractive',\n",
              "                                                     [key], {});\n",
              "          if (!dataTable) return;\n",
              "\n",
              "          const docLinkHtml = 'Like what you see? Visit the ' +\n",
              "            '<a target=\"_blank\" href=https://colab.research.google.com/notebooks/data_table.ipynb>data table notebook</a>'\n",
              "            + ' to learn more about interactive tables.';\n",
              "          element.innerHTML = '';\n",
              "          dataTable['output_type'] = 'display_data';\n",
              "          await google.colab.output.renderOutput(dataTable, element);\n",
              "          const docLink = document.createElement('div');\n",
              "          docLink.innerHTML = docLinkHtml;\n",
              "          element.appendChild(docLink);\n",
              "        }\n",
              "      </script>\n",
              "    </div>\n",
              "  </div>\n",
              "  "
            ]
          },
          "metadata": {},
          "execution_count": 90
        }
      ]
    },
    {
      "cell_type": "code",
      "source": [
        "df_train = df_train.drop(labels=[50], axis=0)"
      ],
      "metadata": {
        "id": "4IpyfWmyN8K2"
      },
      "execution_count": 91,
      "outputs": []
    },
    {
      "cell_type": "code",
      "source": [
        "df_train.iloc[50]"
      ],
      "metadata": {
        "colab": {
          "base_uri": "https://localhost:8080/"
        },
        "id": "PisvJbvYUFpH",
        "outputId": "684b4175-761d-4ce6-f4e6-ad89d7193f7a"
      },
      "execution_count": 92,
      "outputs": [
        {
          "output_type": "execute_result",
          "data": {
            "text/plain": [
              "filename    /content/drive/MyDrive/techai01/dhwani/data/Fi...\n",
              "width                                                    1080\n",
              "height                                                   1920\n",
              "class                                                       7\n",
              "xmin                                                        1\n",
              "ymin                                                      846\n",
              "xmax                                                      460\n",
              "ymax                                                     1415\n",
              "Name: 51, dtype: object"
            ]
          },
          "metadata": {},
          "execution_count": 92
        }
      ]
    },
    {
      "cell_type": "code",
      "source": [
        "def create_mask(bb, x):\n",
        "    \"\"\"Creates a mask for the bounding box of same shape as image\"\"\"\n",
        "    rows,cols,*_ = x.shape\n",
        "    Y = np.zeros((rows, cols))\n",
        "    bb = bb.astype(np.int)\n",
        "    Y[bb[0]:bb[2], bb[1]:bb[3]] = 1.\n",
        "    return Y\n",
        "\n",
        "def mask_to_bb(Y):\n",
        "    \"\"\"Convert mask Y to a bounding box, assumes 0 as background nonzero object\"\"\"\n",
        "    cols, rows = np.nonzero(Y)\n",
        "    if len(cols)==0: \n",
        "        return np.zeros(4, dtype=np.float32)\n",
        "    top_row = np.min(rows)\n",
        "    left_col = np.min(cols)\n",
        "    bottom_row = np.max(rows)\n",
        "    right_col = np.max(cols)\n",
        "    return np.array([left_col, top_row, right_col, bottom_row], dtype=np.float32)\n",
        "\n",
        "def create_bb_array(x):\n",
        "    \"\"\"Generates bounding box array from a train_df row\"\"\"\n",
        "    return np.array([x[5],x[4],x[7],x[6]])"
      ],
      "metadata": {
        "id": "e6aMKLWWwEEx"
      },
      "execution_count": 9,
      "outputs": []
    },
    {
      "cell_type": "code",
      "source": [
        "def resize_image_bb(read_path,write_path,bb,sz):\n",
        "    \"\"\"Resize an image and its bounding box and write image to new path\"\"\"\n",
        "    im = read_image(read_path)\n",
        "    im_resized = cv2.resize(im, (int(1.49*sz), sz))\n",
        "    Y_resized = cv2.resize(create_mask(bb, im), (int(1.49*sz), sz))\n",
        "    new_path = str(write_path/read_path.parts[-1])\n",
        "    cv2.imwrite(new_path, cv2.cvtColor(im_resized, cv2.COLOR_RGB2BGR))\n",
        "    return new_path, mask_to_bb(Y_resized)"
      ],
      "metadata": {
        "id": "wMlZdnS4wHIw"
      },
      "execution_count": 10,
      "outputs": []
    },
    {
      "cell_type": "code",
      "source": [
        "def read_image(img_path):\n",
        "    img = plt.imread(img_path)\n",
        "    return img"
      ],
      "metadata": {
        "id": "UtQOaQT7_nVe"
      },
      "execution_count": 11,
      "outputs": []
    },
    {
      "cell_type": "code",
      "source": [
        "for i in df_train.index:\n",
        "    try: \n",
        "        img = read_image(df_train.filename.iloc[i])\n",
        "    except:\n",
        "         df_train.drop(labels=[i], axis=0, inplace = True)"
      ],
      "metadata": {
        "id": "q58wgRQHNy8u"
      },
      "execution_count": 93,
      "outputs": []
    },
    {
      "cell_type": "code",
      "source": [
        "df_train.shape"
      ],
      "metadata": {
        "colab": {
          "base_uri": "https://localhost:8080/"
        },
        "id": "pQT8DgV7OoJF",
        "outputId": "0406ed40-8adf-4888-9bf0-908135838c8f"
      },
      "execution_count": 76,
      "outputs": [
        {
          "output_type": "execute_result",
          "data": {
            "text/plain": [
              "(1764, 10)"
            ]
          },
          "metadata": {},
          "execution_count": 76
        }
      ]
    },
    {
      "cell_type": "code",
      "source": [
        "#Populating Training DF with new paths and bounding boxes\n",
        "new_paths = []\n",
        "new_bbs = []\n",
        "train_path_resized = Path('/content/drive/MyDrive/techai01/dhwani/data/images_resized')\n",
        "for index, row in df_train.iterrows():\n",
        "    try:\n",
        "        new_path,new_bb = resize_image_bb(row['filename'], train_path_resized, create_bb_array(row.values),300)\n",
        "        new_paths.append(new_path)\n",
        "        new_bbs.append(new_bb)\n",
        "    except: \n",
        "        new_paths.append([])\n",
        "        new_bbs.append([])\n",
        "df_train['new_path'] = new_paths\n",
        "df_train['new_bb'] = new_bbs"
      ],
      "metadata": {
        "colab": {
          "base_uri": "https://localhost:8080/"
        },
        "id": "6XVihYijwJBo",
        "outputId": "20cac296-4080-4993-b76c-44468c152b05"
      },
      "execution_count": 94,
      "outputs": [
        {
          "output_type": "stream",
          "name": "stderr",
          "text": [
            "/usr/local/lib/python3.7/dist-packages/ipykernel_launcher.py:5: DeprecationWarning: `np.int` is a deprecated alias for the builtin `int`. To silence this warning, use `int` by itself. Doing this will not modify any behavior and is safe. When replacing `np.int`, you may wish to use e.g. `np.int64` or `np.int32` to specify the precision. If you wish to review your current use, check the release note link for additional information.\n",
            "Deprecated in NumPy 1.20; for more details and guidance: https://numpy.org/devdocs/release/1.20.0-notes.html#deprecations\n",
            "  \"\"\"\n"
          ]
        }
      ]
    },
    {
      "cell_type": "code",
      "source": [
        "# modified from fast.ai\n",
        "def crop(im, r, c, target_r, target_c): \n",
        "    return im[r:r+target_r, c:c+target_c]\n",
        "\n",
        "# random crop to the original size\n",
        "def random_crop(x, r_pix=8):\n",
        "    \"\"\" Returns a random crop\"\"\"\n",
        "    r, c,*_ = x.shape\n",
        "    c_pix = round(r_pix*c/r)\n",
        "    rand_r = random.uniform(0, 1)\n",
        "    rand_c = random.uniform(0, 1)\n",
        "    start_r = np.floor(2*rand_r*r_pix).astype(int)\n",
        "    start_c = np.floor(2*rand_c*c_pix).astype(int)\n",
        "    return crop(x, start_r, start_c, r-2*r_pix, c-2*c_pix)\n",
        "\n",
        "def center_crop(x, r_pix=8):\n",
        "    r, c,*_ = x.shape\n",
        "    c_pix = round(r_pix*c/r)\n",
        "    return crop(x, r_pix, c_pix, r-2*r_pix, c-2*c_pix)"
      ],
      "metadata": {
        "id": "Jb3uEt0BwN9I"
      },
      "execution_count": 95,
      "outputs": []
    },
    {
      "cell_type": "code",
      "source": [
        "def rotate_cv(im, deg, y=False, mode=cv2.BORDER_REFLECT, interpolation=cv2.INTER_AREA):\n",
        "    \"\"\" Rotates an image by deg degrees\"\"\"\n",
        "    r,c,*_ = im.shape\n",
        "    M = cv2.getRotationMatrix2D((c/2,r/2),deg,1)\n",
        "    if y:\n",
        "        return cv2.warpAffine(im, M,(c,r), borderMode=cv2.BORDER_CONSTANT)\n",
        "    return cv2.warpAffine(im,M,(c,r), borderMode=mode, flags=cv2.WARP_FILL_OUTLIERS+interpolation)\n",
        "\n",
        "def random_cropXY(x, Y, r_pix=8):\n",
        "    \"\"\" Returns a random crop\"\"\"\n",
        "    r, c,*_ = x.shape\n",
        "    c_pix = round(r_pix*c/r)\n",
        "    rand_r = random.uniform(0, 1)\n",
        "    rand_c = random.uniform(0, 1)\n",
        "    start_r = np.floor(2*rand_r*r_pix).astype(int)\n",
        "    start_c = np.floor(2*rand_c*c_pix).astype(int)\n",
        "    xx = crop(x, start_r, start_c, r-2*r_pix, c-2*c_pix)\n",
        "    YY = crop(Y, start_r, start_c, r-2*r_pix, c-2*c_pix)\n",
        "    return xx, YY\n",
        "\n",
        "def transformsXY(path, bb, transforms):\n",
        "    if cv2.imread(str(path)) is not None: \n",
        "        x = cv2.imread(str(path)).astype(np.float32)\n",
        "        x = cv2.cvtColor(x, cv2.COLOR_BGR2RGB)/255\n",
        "    else: return None, None\n",
        "    Y = create_mask(bb, x)\n",
        "    if transforms:\n",
        "        rdeg = (np.random.random()-.50)*20\n",
        "        x = rotate_cv(x, rdeg)\n",
        "        Y = rotate_cv(Y, rdeg, y=True)\n",
        "        if np.random.random() > 0.5: \n",
        "            x = np.fliplr(x).copy()\n",
        "            Y = np.fliplr(Y).copy()\n",
        "        x, Y = random_cropXY(x, Y)\n",
        "    else:\n",
        "        x, Y = center_crop(x), center_crop(Y)\n",
        "    return x, mask_to_bb(Y)"
      ],
      "metadata": {
        "id": "Q9XOWXAcwQU5"
      },
      "execution_count": 96,
      "outputs": []
    },
    {
      "cell_type": "code",
      "source": [
        "def create_corner_rect(bb, color='red'):\n",
        "    bb = np.array(bb, dtype=np.float32)\n",
        "    return plt.Rectangle((bb[1], bb[0]), bb[3]-bb[1], bb[2]-bb[0], color=color,\n",
        "                         fill=False, lw=3)\n",
        "\n",
        "def show_corner_bb(im, bb):\n",
        "    plt.imshow(im)\n",
        "    plt.gca().add_patch(create_corner_rect(bb))"
      ],
      "metadata": {
        "id": "3fCnRzt8wR64"
      },
      "execution_count": 97,
      "outputs": []
    },
    {
      "cell_type": "code",
      "source": [
        "df_train"
      ],
      "metadata": {
        "colab": {
          "base_uri": "https://localhost:8080/",
          "height": 423
        },
        "id": "Bb0w0obYDmVQ",
        "outputId": "8483899b-e8c9-41e3-b61d-4d53f89fffe8"
      },
      "execution_count": 98,
      "outputs": [
        {
          "output_type": "execute_result",
          "data": {
            "text/plain": [
              "                                               filename width height  class  \\\n",
              "0     /content/drive/MyDrive/techai01/dhwani/data/Fi...  1080   1920      2   \n",
              "1     /content/drive/MyDrive/techai01/dhwani/data/Fi...  1080   1920      3   \n",
              "2     /content/drive/MyDrive/techai01/dhwani/data/Fi...  1125    877      1   \n",
              "3     /content/drive/MyDrive/techai01/dhwani/data/Fi...  1125    991      3   \n",
              "4     /content/drive/MyDrive/techai01/dhwani/data/Fi...  1080   1920      1   \n",
              "...                                                 ...   ...    ...    ...   \n",
              "1850  /content/drive/MyDrive/techai01/dhwani/data/Fi...  1680   1080      9   \n",
              "1851  /content/drive/MyDrive/techai01/dhwani/data/Fi...  1920   1080      3   \n",
              "1852  /content/drive/MyDrive/techai01/dhwani/data/Fi...  1920   1080      2   \n",
              "1853  /content/drive/MyDrive/techai01/dhwani/data/Fi...  1905    891      3   \n",
              "1854  /content/drive/MyDrive/techai01/dhwani/data/Fi...  1675    959      3   \n",
              "\n",
              "      xmin  ymin  xmax  ymax  \\\n",
              "0      965   892  1048  1041   \n",
              "1      440   823   689  1103   \n",
              "2      477   297   520   330   \n",
              "3      948   317  1125   469   \n",
              "4      514   933  1079  1748   \n",
              "...    ...   ...   ...   ...   \n",
              "1850  1057   678  1434   860   \n",
              "1851   650   229  1138   929   \n",
              "1852   845   331   870   387   \n",
              "1853   269    43   799   776   \n",
              "1854   654   558   751   701   \n",
              "\n",
              "                                               new_path  \\\n",
              "0     /content/drive/MyDrive/techai01/dhwani/data/im...   \n",
              "1     /content/drive/MyDrive/techai01/dhwani/data/im...   \n",
              "2     /content/drive/MyDrive/techai01/dhwani/data/im...   \n",
              "3     /content/drive/MyDrive/techai01/dhwani/data/im...   \n",
              "4     /content/drive/MyDrive/techai01/dhwani/data/im...   \n",
              "...                                                 ...   \n",
              "1850  /content/drive/MyDrive/techai01/dhwani/data/im...   \n",
              "1851  /content/drive/MyDrive/techai01/dhwani/data/im...   \n",
              "1852  /content/drive/MyDrive/techai01/dhwani/data/im...   \n",
              "1853  /content/drive/MyDrive/techai01/dhwani/data/im...   \n",
              "1854  /content/drive/MyDrive/techai01/dhwani/data/im...   \n",
              "\n",
              "                            new_bb  \n",
              "0     [139.0, 399.0, 162.0, 433.0]  \n",
              "1     [129.0, 182.0, 171.0, 284.0]  \n",
              "2     [101.0, 189.0, 112.0, 206.0]  \n",
              "3      [96.0, 376.0, 141.0, 446.0]  \n",
              "4     [146.0, 213.0, 272.0, 446.0]  \n",
              "...                            ...  \n",
              "1850  [188.0, 281.0, 238.0, 381.0]  \n",
              "1851   [63.0, 151.0, 257.0, 264.0]  \n",
              "1852   [92.0, 197.0, 107.0, 202.0]  \n",
              "1853    [14.0, 63.0, 260.0, 187.0]  \n",
              "1854  [174.0, 174.0, 218.0, 200.0]  \n",
              "\n",
              "[1766 rows x 10 columns]"
            ],
            "text/html": [
              "\n",
              "  <div id=\"df-981551eb-d32b-4aac-a0eb-97e90fbe042b\">\n",
              "    <div class=\"colab-df-container\">\n",
              "      <div>\n",
              "<style scoped>\n",
              "    .dataframe tbody tr th:only-of-type {\n",
              "        vertical-align: middle;\n",
              "    }\n",
              "\n",
              "    .dataframe tbody tr th {\n",
              "        vertical-align: top;\n",
              "    }\n",
              "\n",
              "    .dataframe thead th {\n",
              "        text-align: right;\n",
              "    }\n",
              "</style>\n",
              "<table border=\"1\" class=\"dataframe\">\n",
              "  <thead>\n",
              "    <tr style=\"text-align: right;\">\n",
              "      <th></th>\n",
              "      <th>filename</th>\n",
              "      <th>width</th>\n",
              "      <th>height</th>\n",
              "      <th>class</th>\n",
              "      <th>xmin</th>\n",
              "      <th>ymin</th>\n",
              "      <th>xmax</th>\n",
              "      <th>ymax</th>\n",
              "      <th>new_path</th>\n",
              "      <th>new_bb</th>\n",
              "    </tr>\n",
              "  </thead>\n",
              "  <tbody>\n",
              "    <tr>\n",
              "      <th>0</th>\n",
              "      <td>/content/drive/MyDrive/techai01/dhwani/data/Fi...</td>\n",
              "      <td>1080</td>\n",
              "      <td>1920</td>\n",
              "      <td>2</td>\n",
              "      <td>965</td>\n",
              "      <td>892</td>\n",
              "      <td>1048</td>\n",
              "      <td>1041</td>\n",
              "      <td>/content/drive/MyDrive/techai01/dhwani/data/im...</td>\n",
              "      <td>[139.0, 399.0, 162.0, 433.0]</td>\n",
              "    </tr>\n",
              "    <tr>\n",
              "      <th>1</th>\n",
              "      <td>/content/drive/MyDrive/techai01/dhwani/data/Fi...</td>\n",
              "      <td>1080</td>\n",
              "      <td>1920</td>\n",
              "      <td>3</td>\n",
              "      <td>440</td>\n",
              "      <td>823</td>\n",
              "      <td>689</td>\n",
              "      <td>1103</td>\n",
              "      <td>/content/drive/MyDrive/techai01/dhwani/data/im...</td>\n",
              "      <td>[129.0, 182.0, 171.0, 284.0]</td>\n",
              "    </tr>\n",
              "    <tr>\n",
              "      <th>2</th>\n",
              "      <td>/content/drive/MyDrive/techai01/dhwani/data/Fi...</td>\n",
              "      <td>1125</td>\n",
              "      <td>877</td>\n",
              "      <td>1</td>\n",
              "      <td>477</td>\n",
              "      <td>297</td>\n",
              "      <td>520</td>\n",
              "      <td>330</td>\n",
              "      <td>/content/drive/MyDrive/techai01/dhwani/data/im...</td>\n",
              "      <td>[101.0, 189.0, 112.0, 206.0]</td>\n",
              "    </tr>\n",
              "    <tr>\n",
              "      <th>3</th>\n",
              "      <td>/content/drive/MyDrive/techai01/dhwani/data/Fi...</td>\n",
              "      <td>1125</td>\n",
              "      <td>991</td>\n",
              "      <td>3</td>\n",
              "      <td>948</td>\n",
              "      <td>317</td>\n",
              "      <td>1125</td>\n",
              "      <td>469</td>\n",
              "      <td>/content/drive/MyDrive/techai01/dhwani/data/im...</td>\n",
              "      <td>[96.0, 376.0, 141.0, 446.0]</td>\n",
              "    </tr>\n",
              "    <tr>\n",
              "      <th>4</th>\n",
              "      <td>/content/drive/MyDrive/techai01/dhwani/data/Fi...</td>\n",
              "      <td>1080</td>\n",
              "      <td>1920</td>\n",
              "      <td>1</td>\n",
              "      <td>514</td>\n",
              "      <td>933</td>\n",
              "      <td>1079</td>\n",
              "      <td>1748</td>\n",
              "      <td>/content/drive/MyDrive/techai01/dhwani/data/im...</td>\n",
              "      <td>[146.0, 213.0, 272.0, 446.0]</td>\n",
              "    </tr>\n",
              "    <tr>\n",
              "      <th>...</th>\n",
              "      <td>...</td>\n",
              "      <td>...</td>\n",
              "      <td>...</td>\n",
              "      <td>...</td>\n",
              "      <td>...</td>\n",
              "      <td>...</td>\n",
              "      <td>...</td>\n",
              "      <td>...</td>\n",
              "      <td>...</td>\n",
              "      <td>...</td>\n",
              "    </tr>\n",
              "    <tr>\n",
              "      <th>1850</th>\n",
              "      <td>/content/drive/MyDrive/techai01/dhwani/data/Fi...</td>\n",
              "      <td>1680</td>\n",
              "      <td>1080</td>\n",
              "      <td>9</td>\n",
              "      <td>1057</td>\n",
              "      <td>678</td>\n",
              "      <td>1434</td>\n",
              "      <td>860</td>\n",
              "      <td>/content/drive/MyDrive/techai01/dhwani/data/im...</td>\n",
              "      <td>[188.0, 281.0, 238.0, 381.0]</td>\n",
              "    </tr>\n",
              "    <tr>\n",
              "      <th>1851</th>\n",
              "      <td>/content/drive/MyDrive/techai01/dhwani/data/Fi...</td>\n",
              "      <td>1920</td>\n",
              "      <td>1080</td>\n",
              "      <td>3</td>\n",
              "      <td>650</td>\n",
              "      <td>229</td>\n",
              "      <td>1138</td>\n",
              "      <td>929</td>\n",
              "      <td>/content/drive/MyDrive/techai01/dhwani/data/im...</td>\n",
              "      <td>[63.0, 151.0, 257.0, 264.0]</td>\n",
              "    </tr>\n",
              "    <tr>\n",
              "      <th>1852</th>\n",
              "      <td>/content/drive/MyDrive/techai01/dhwani/data/Fi...</td>\n",
              "      <td>1920</td>\n",
              "      <td>1080</td>\n",
              "      <td>2</td>\n",
              "      <td>845</td>\n",
              "      <td>331</td>\n",
              "      <td>870</td>\n",
              "      <td>387</td>\n",
              "      <td>/content/drive/MyDrive/techai01/dhwani/data/im...</td>\n",
              "      <td>[92.0, 197.0, 107.0, 202.0]</td>\n",
              "    </tr>\n",
              "    <tr>\n",
              "      <th>1853</th>\n",
              "      <td>/content/drive/MyDrive/techai01/dhwani/data/Fi...</td>\n",
              "      <td>1905</td>\n",
              "      <td>891</td>\n",
              "      <td>3</td>\n",
              "      <td>269</td>\n",
              "      <td>43</td>\n",
              "      <td>799</td>\n",
              "      <td>776</td>\n",
              "      <td>/content/drive/MyDrive/techai01/dhwani/data/im...</td>\n",
              "      <td>[14.0, 63.0, 260.0, 187.0]</td>\n",
              "    </tr>\n",
              "    <tr>\n",
              "      <th>1854</th>\n",
              "      <td>/content/drive/MyDrive/techai01/dhwani/data/Fi...</td>\n",
              "      <td>1675</td>\n",
              "      <td>959</td>\n",
              "      <td>3</td>\n",
              "      <td>654</td>\n",
              "      <td>558</td>\n",
              "      <td>751</td>\n",
              "      <td>701</td>\n",
              "      <td>/content/drive/MyDrive/techai01/dhwani/data/im...</td>\n",
              "      <td>[174.0, 174.0, 218.0, 200.0]</td>\n",
              "    </tr>\n",
              "  </tbody>\n",
              "</table>\n",
              "<p>1766 rows × 10 columns</p>\n",
              "</div>\n",
              "      <button class=\"colab-df-convert\" onclick=\"convertToInteractive('df-981551eb-d32b-4aac-a0eb-97e90fbe042b')\"\n",
              "              title=\"Convert this dataframe to an interactive table.\"\n",
              "              style=\"display:none;\">\n",
              "        \n",
              "  <svg xmlns=\"http://www.w3.org/2000/svg\" height=\"24px\"viewBox=\"0 0 24 24\"\n",
              "       width=\"24px\">\n",
              "    <path d=\"M0 0h24v24H0V0z\" fill=\"none\"/>\n",
              "    <path d=\"M18.56 5.44l.94 2.06.94-2.06 2.06-.94-2.06-.94-.94-2.06-.94 2.06-2.06.94zm-11 1L8.5 8.5l.94-2.06 2.06-.94-2.06-.94L8.5 2.5l-.94 2.06-2.06.94zm10 10l.94 2.06.94-2.06 2.06-.94-2.06-.94-.94-2.06-.94 2.06-2.06.94z\"/><path d=\"M17.41 7.96l-1.37-1.37c-.4-.4-.92-.59-1.43-.59-.52 0-1.04.2-1.43.59L10.3 9.45l-7.72 7.72c-.78.78-.78 2.05 0 2.83L4 21.41c.39.39.9.59 1.41.59.51 0 1.02-.2 1.41-.59l7.78-7.78 2.81-2.81c.8-.78.8-2.07 0-2.86zM5.41 20L4 18.59l7.72-7.72 1.47 1.35L5.41 20z\"/>\n",
              "  </svg>\n",
              "      </button>\n",
              "      \n",
              "  <style>\n",
              "    .colab-df-container {\n",
              "      display:flex;\n",
              "      flex-wrap:wrap;\n",
              "      gap: 12px;\n",
              "    }\n",
              "\n",
              "    .colab-df-convert {\n",
              "      background-color: #E8F0FE;\n",
              "      border: none;\n",
              "      border-radius: 50%;\n",
              "      cursor: pointer;\n",
              "      display: none;\n",
              "      fill: #1967D2;\n",
              "      height: 32px;\n",
              "      padding: 0 0 0 0;\n",
              "      width: 32px;\n",
              "    }\n",
              "\n",
              "    .colab-df-convert:hover {\n",
              "      background-color: #E2EBFA;\n",
              "      box-shadow: 0px 1px 2px rgba(60, 64, 67, 0.3), 0px 1px 3px 1px rgba(60, 64, 67, 0.15);\n",
              "      fill: #174EA6;\n",
              "    }\n",
              "\n",
              "    [theme=dark] .colab-df-convert {\n",
              "      background-color: #3B4455;\n",
              "      fill: #D2E3FC;\n",
              "    }\n",
              "\n",
              "    [theme=dark] .colab-df-convert:hover {\n",
              "      background-color: #434B5C;\n",
              "      box-shadow: 0px 1px 3px 1px rgba(0, 0, 0, 0.15);\n",
              "      filter: drop-shadow(0px 1px 2px rgba(0, 0, 0, 0.3));\n",
              "      fill: #FFFFFF;\n",
              "    }\n",
              "  </style>\n",
              "\n",
              "      <script>\n",
              "        const buttonEl =\n",
              "          document.querySelector('#df-981551eb-d32b-4aac-a0eb-97e90fbe042b button.colab-df-convert');\n",
              "        buttonEl.style.display =\n",
              "          google.colab.kernel.accessAllowed ? 'block' : 'none';\n",
              "\n",
              "        async function convertToInteractive(key) {\n",
              "          const element = document.querySelector('#df-981551eb-d32b-4aac-a0eb-97e90fbe042b');\n",
              "          const dataTable =\n",
              "            await google.colab.kernel.invokeFunction('convertToInteractive',\n",
              "                                                     [key], {});\n",
              "          if (!dataTable) return;\n",
              "\n",
              "          const docLinkHtml = 'Like what you see? Visit the ' +\n",
              "            '<a target=\"_blank\" href=https://colab.research.google.com/notebooks/data_table.ipynb>data table notebook</a>'\n",
              "            + ' to learn more about interactive tables.';\n",
              "          element.innerHTML = '';\n",
              "          dataTable['output_type'] = 'display_data';\n",
              "          await google.colab.output.renderOutput(dataTable, element);\n",
              "          const docLink = document.createElement('div');\n",
              "          docLink.innerHTML = docLinkHtml;\n",
              "          element.appendChild(docLink);\n",
              "        }\n",
              "      </script>\n",
              "    </div>\n",
              "  </div>\n",
              "  "
            ]
          },
          "metadata": {},
          "execution_count": 98
        }
      ]
    },
    {
      "cell_type": "code",
      "source": [
        "X = df_train.drop(labels = ['class'], axis=1)\n",
        "Y = df_train['class']"
      ],
      "metadata": {
        "id": "bEgU1rCRE2Ac"
      },
      "execution_count": 99,
      "outputs": []
    },
    {
      "cell_type": "code",
      "source": [
        "X_train, X_val, y_train, y_val = train_test_split(X, Y, test_size=0.2, random_state=42)"
      ],
      "metadata": {
        "id": "elwwy9jrwc3f"
      },
      "execution_count": 100,
      "outputs": []
    },
    {
      "cell_type": "code",
      "source": [
        "def normalize(im):\n",
        "    \"\"\"Normalizes images with Imagenet stats.\"\"\"\n",
        "    imagenet_stats = np.array([[0.485, 0.456, 0.406], [0.229, 0.224, 0.225]])\n",
        "    if im is None: return np.array([[[]]])\n",
        "    return (im - imagenet_stats[0])/imagenet_stats[1]"
      ],
      "metadata": {
        "id": "euaJpIAXwfDP"
      },
      "execution_count": 101,
      "outputs": []
    },
    {
      "cell_type": "code",
      "source": [
        "class RoadDataset():\n",
        "    def __init__(self, paths, bb, y, transforms=False):\n",
        "        self.transforms = transforms\n",
        "        self.paths = paths.values\n",
        "        self.bb = bb.values\n",
        "        self.y = y.values\n",
        "    def __len__(self):\n",
        "        return len(self.paths)\n",
        "    \n",
        "    def __getitem__(self, idx):\n",
        "        path = self.paths[idx]\n",
        "        y_class = self.y[idx]\n",
        "        x, y_bb = transformsXY(path, self.bb[idx], self.transforms)\n",
        "        if x is None: return \n",
        "        x = normalize(x)\n",
        "        x = np.rollaxis(x, 2)\n",
        "        return x, y_class, y_bb"
      ],
      "metadata": {
        "id": "VDvRxbxJwfgP"
      },
      "execution_count": 102,
      "outputs": []
    },
    {
      "cell_type": "code",
      "source": [
        "train_ds = RoadDataset(X_train['new_path'],X_train['new_bb'] ,y_train, transforms=True)\n",
        "valid_ds = RoadDataset(X_val['new_path'],X_val['new_bb'],y_val)"
      ],
      "metadata": {
        "id": "78Oa2EKpwgr3"
      },
      "execution_count": 103,
      "outputs": []
    },
    {
      "cell_type": "code",
      "source": [
        "from torch.utils.data import Dataset, DataLoader\n",
        "import torch.nn as nn\n",
        "import torch.nn.functional as F\n",
        "import torch\n",
        "import torchvision.models as models"
      ],
      "metadata": {
        "id": "m4aIR83TFUh0"
      },
      "execution_count": 104,
      "outputs": []
    },
    {
      "cell_type": "code",
      "source": [
        "batch_size = 64\n",
        "train_dl = DataLoader(train_ds, batch_size=batch_size, shuffle=True)\n",
        "valid_dl = DataLoader(valid_ds, batch_size=batch_size)"
      ],
      "metadata": {
        "id": "82mIAWPMwiUX"
      },
      "execution_count": 105,
      "outputs": []
    },
    {
      "cell_type": "code",
      "source": [
        "class BB_model(nn.Module):\n",
        "    def __init__(self):\n",
        "        super(BB_model, self).__init__()\n",
        "        resnet = models.resnet34(pretrained=True)\n",
        "        layers = list(resnet.children())[:8]\n",
        "        self.features1 = nn.Sequential(*layers[:6])\n",
        "        self.features2 = nn.Sequential(*layers[6:])\n",
        "        self.classifier = nn.Sequential(nn.BatchNorm1d(512), nn.Linear(512, 4))\n",
        "        self.bb = nn.Sequential(nn.BatchNorm1d(512), nn.Linear(512, 4))\n",
        "        \n",
        "    def forward(self, x):\n",
        "        x = self.features1(x)\n",
        "        x = self.features2(x)\n",
        "        x = F.relu(x)\n",
        "        x = nn.AdaptiveAvgPool2d((1,1))(x)\n",
        "        x = x.view(x.shape[0], -1)\n",
        "        return self.classifier(x), self.bb(x)"
      ],
      "metadata": {
        "id": "FqmJDm0jwkGP"
      },
      "execution_count": 106,
      "outputs": []
    },
    {
      "cell_type": "code",
      "source": [
        "def update_optimizer(optimizer, lr):\n",
        "    for i, param_group in enumerate(optimizer.param_groups):\n",
        "        param_group[\"lr\"] = lr"
      ],
      "metadata": {
        "id": "B6SD9Zybwkso"
      },
      "execution_count": 107,
      "outputs": []
    },
    {
      "cell_type": "code",
      "source": [
        "def train_epocs(model, optimizer, train_dl, val_dl, epochs=10,C=1000):\n",
        "    idx = 0\n",
        "    for i in range(epochs):\n",
        "        model.train()\n",
        "        total = 0\n",
        "        sum_loss = 0\n",
        "        for x, y_class, y_bb in train_dl:\n",
        "            batch = y_class.shape[0]\n",
        "            if x is None: continue\n",
        "            x = x.cuda().float()\n",
        "            y_class = y_class.cuda()\n",
        "            y_bb = y_bb.cuda().float()\n",
        "            out_class, out_bb = model(x)\n",
        "            loss_class = F.cross_entropy(out_class, y_class, reduction=\"sum\")\n",
        "            loss_bb = F.l1_loss(out_bb, y_bb, reduction=\"none\").sum(1)\n",
        "            loss_bb = loss_bb.sum()\n",
        "            loss = loss_class + loss_bb/C\n",
        "            optimizer.zero_grad()\n",
        "            loss.backward()\n",
        "            optimizer.step()\n",
        "            idx += 1\n",
        "            total += batch\n",
        "            sum_loss += loss.item()\n",
        "        train_loss = sum_loss/total\n",
        "        val_loss, val_acc = val_metrics(model, valid_dl, C)\n",
        "        print(\"train_loss %.3f val_loss %.3f val_acc %.3f\" % (train_loss, val_loss, val_acc))\n",
        "    return sum_loss/total"
      ],
      "metadata": {
        "id": "pnWrsVO7Ih7p"
      },
      "execution_count": 108,
      "outputs": []
    },
    {
      "cell_type": "code",
      "source": [
        "def val_metrics(model, valid_dl, C=1000):\n",
        "    model.eval()\n",
        "    total = 0\n",
        "    sum_loss = 0\n",
        "    correct = 0 \n",
        "    for x, y_class, y_bb in valid_dl:\n",
        "        batch = y_class.shape[0]\n",
        "        x = x.cuda().float()\n",
        "        y_class = y_class.cuda()\n",
        "        y_bb = y_bb.cuda().float()\n",
        "        out_class, out_bb = model(x)\n",
        "        loss_class = F.cross_entropy(out_class, y_class, reduction=\"sum\")\n",
        "        loss_bb = F.l1_loss(out_bb, y_bb, reduction=\"none\").sum(1)\n",
        "        loss_bb = loss_bb.sum()\n",
        "        loss = loss_class + loss_bb/C\n",
        "        _, pred = torch.max(out_class, 1)\n",
        "        correct += pred.eq(y_class).sum().item()\n",
        "        sum_loss += loss.item()\n",
        "        total += batch\n",
        "    return sum_loss/total, correct/total"
      ],
      "metadata": {
        "id": "nU9ACTwRwm2Q"
      },
      "execution_count": 26,
      "outputs": []
    },
    {
      "cell_type": "code",
      "source": [
        "model = BB_model().cuda()\n",
        "parameters = filter(lambda p: p.requires_grad, model.parameters())\n",
        "optimizer = torch.optim.Adam(parameters, lr=0.006)"
      ],
      "metadata": {
        "id": "3FZdg6iewoK3"
      },
      "execution_count": null,
      "outputs": []
    },
    {
      "cell_type": "code",
      "source": [
        "train_epocs(model, optimizer, train_dl, valid_dl, epochs=15)"
      ],
      "metadata": {
        "id": "uCepFIBEwpkv"
      },
      "execution_count": null,
      "outputs": []
    },
    {
      "cell_type": "code",
      "source": [
        "# resizing test image\n",
        "im = read_image('./road_signs/images_resized/road789.png')\n",
        "im = cv2.resize(im, (int(1.49*300), 300))\n",
        "cv2.imwrite('./road_signs/road_signs_test/road789.jpg', cv2.cvtColor(im, cv2.COLOR_RGB2BGR))"
      ],
      "metadata": {
        "id": "XsM0wkwdwt73"
      },
      "execution_count": null,
      "outputs": []
    },
    {
      "cell_type": "code",
      "source": [
        "# test Dataset\n",
        "test_ds = RoadDataset(pd.DataFrame([{'path':'./road_signs/road_signs_test/road789.jpg'}])['path'],pd.DataFrame([{'bb':np.array([0,0,0,0])}])['bb'],pd.DataFrame([{'y':[0]}])['y'])\n",
        "x, y_class, y_bb = test_ds[0]"
      ],
      "metadata": {
        "id": "KvgwMWM7wwlM"
      },
      "execution_count": null,
      "outputs": []
    },
    {
      "cell_type": "code",
      "source": [
        "xx = torch.FloatTensor(x[None,])\n",
        "xx.shape"
      ],
      "metadata": {
        "id": "Bah7FPZHwyCX"
      },
      "execution_count": null,
      "outputs": []
    },
    {
      "cell_type": "code",
      "source": [
        "# prediction\n",
        "out_class, out_bb = model(xx.cuda())\n",
        "out_class, out_bb"
      ],
      "metadata": {
        "id": "3R97VNi7wzp_"
      },
      "execution_count": null,
      "outputs": []
    },
    {
      "cell_type": "code",
      "source": [
        "# predicted bounding box\n",
        "bb_hat = out_bb.detach().cpu().numpy()\n",
        "bb_hat = bb_hat.astype(int)\n",
        "show_corner_bb(im, bb_hat[0])"
      ],
      "metadata": {
        "id": "Dzw0aHEjw0GP"
      },
      "execution_count": null,
      "outputs": []
    }
  ]
}